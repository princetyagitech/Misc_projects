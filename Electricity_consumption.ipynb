{
  "nbformat": 4,
  "nbformat_minor": 0,
  "metadata": {
    "colab": {
      "name": "Electricity_consumption.ipynb",
      "version": "0.3.2",
      "provenance": []
    },
    "kernelspec": {
      "display_name": "Python 3",
      "language": "python",
      "name": "python3"
    }
  },
  "cells": [
    {
      "cell_type": "markdown",
      "metadata": {
        "id": "sL0q10XV83Ql",
        "colab_type": "text"
      },
      "source": [
        "# Data Set Information:\n",
        "\n",
        "This archive contains 2075259 measurements gathered in a house located in Sceaux (7km of Paris, France) between December 2006 and November 2010 (47 months). \n",
        "Notes: \n",
        "1. (global_active_power*1000/60 - sub_metering_1 - sub_metering_2 - sub_metering_3) represents the active energy consumed every minute (in watt hour) in the household by electrical equipment not measured in sub-meterings 1, 2 and 3. \n",
        "2. The dataset contains some missing values in the measurements (nearly 1,25% of the rows). All calendar timestamps are present in the dataset but for some timestamps, the measurement values are missing: a missing value is represented by the absence of value between two consecutive semi-colon attribute separators. For instance, the dataset shows missing values on April 28, 2007.\n",
        "\n",
        "\n",
        "# Attribute Information:\n",
        "\n",
        "1. date: Date in format dd/mm/yyyy \n",
        "2. time: time in format hh:mm:ss \n",
        "3. global_active_power: household global minute-averaged active power (in kilowatt) \n",
        "4. global_reactive_power: household global minute-averaged reactive power (in kilowatt) \n",
        "5. voltage: minute-averaged voltage (in volt) \n",
        "6. global_intensity: household global minute-averaged current intensity (in ampere) \n",
        "7. sub_metering_1: energy sub-metering No. 1 (in watt-hour of active energy). It corresponds to the kitchen, containing mainly a dishwasher, an oven and a microwave (hot plates are not electric but gas powered). \n",
        "8. sub_metering_2: energy sub-metering No. 2 (in watt-hour of active energy). It corresponds to the laundry room, containing a washing-machine, a tumble-drier, a refrigerator and a light. \n",
        "9. sub_metering_3: energy sub-metering No. 3 (in watt-hour of active energy). It corresponds to an electric water-heater and an air-conditioner. "
      ]
    },
    {
      "cell_type": "code",
      "metadata": {
        "id": "1NlVL9sm83Qz",
        "colab_type": "code",
        "colab": {}
      },
      "source": [
        "import numpy as np\n",
        "import pandas as pd\n"
      ],
      "execution_count": 0,
      "outputs": []
    },
    {
      "cell_type": "code",
      "metadata": {
        "id": "C79sq16GCDpc",
        "colab_type": "code",
        "colab": {
          "base_uri": "https://localhost:8080/",
          "height": 119
        },
        "outputId": "aecc731f-8a8f-45d8-a81d-f56bf6c5f2a1"
      },
      "source": [
        "! git clone https://github.com/prince-tyagi1997/ML_datasets"
      ],
      "execution_count": 8,
      "outputs": [
        {
          "output_type": "stream",
          "text": [
            "Cloning into 'ML_datasets'...\n",
            "remote: Enumerating objects: 3, done.\u001b[K\n",
            "remote: Counting objects:  33% (1/3)   \u001b[K\rremote: Counting objects:  66% (2/3)   \u001b[K\rremote: Counting objects: 100% (3/3)   \u001b[K\rremote: Counting objects: 100% (3/3), done.\u001b[K\n",
            "remote: Compressing objects: 100% (3/3), done.\u001b[K\n",
            "remote: Total 3 (delta 0), reused 0 (delta 0), pack-reused 0\u001b[K\n",
            "Unpacking objects: 100% (3/3), done.\n"
          ],
          "name": "stdout"
        }
      ]
    },
    {
      "cell_type": "code",
      "metadata": {
        "id": "-CieeF1jEFwa",
        "colab_type": "code",
        "colab": {
          "base_uri": "https://localhost:8080/",
          "height": 122
        },
        "outputId": "f2510c0f-d894-4462-f091-a620dbb98144"
      },
      "source": [
        "from google.colab import drive\n",
        "drive.mount('/content/gdrive')\n"
      ],
      "execution_count": 12,
      "outputs": [
        {
          "output_type": "stream",
          "text": [
            "Go to this URL in a browser: https://accounts.google.com/o/oauth2/auth?client_id=947318989803-6bn6qk8qdgf4n4g3pfee6491hc0brc4i.apps.googleusercontent.com&redirect_uri=urn%3Aietf%3Awg%3Aoauth%3A2.0%3Aoob&scope=email%20https%3A%2F%2Fwww.googleapis.com%2Fauth%2Fdocs.test%20https%3A%2F%2Fwww.googleapis.com%2Fauth%2Fdrive%20https%3A%2F%2Fwww.googleapis.com%2Fauth%2Fdrive.photos.readonly%20https%3A%2F%2Fwww.googleapis.com%2Fauth%2Fpeopleapi.readonly&response_type=code\n",
            "\n",
            "Enter your authorization code:\n",
            "··········\n",
            "Mounted at /content/gdrive\n"
          ],
          "name": "stdout"
        }
      ]
    },
    {
      "cell_type": "code",
      "metadata": {
        "id": "p6kt2DHK83RL",
        "colab_type": "code",
        "colab": {
          "base_uri": "https://localhost:8080/",
          "height": 71
        },
        "outputId": "07cee8d1-4687-4ad0-968e-56e5fa549a62"
      },
      "source": [
        "data=pd.read_csv('gdrive/My Drive/household_power_consumption.txt',sep=';',header=None)"
      ],
      "execution_count": 14,
      "outputs": [
        {
          "output_type": "stream",
          "text": [
            "/usr/local/lib/python3.6/dist-packages/IPython/core/interactiveshell.py:2718: DtypeWarning: Columns (2,3,4,5,6,7,8) have mixed types. Specify dtype option on import or set low_memory=False.\n",
            "  interactivity=interactivity, compiler=compiler, result=result)\n"
          ],
          "name": "stderr"
        }
      ]
    },
    {
      "cell_type": "code",
      "metadata": {
        "id": "PXt1ZgTX83R1",
        "colab_type": "code",
        "colab": {
          "base_uri": "https://localhost:8080/",
          "height": 34
        },
        "outputId": "cea4ec3b-967e-4242-d475-e894b8be2364"
      },
      "source": [
        "data.shape"
      ],
      "execution_count": 15,
      "outputs": [
        {
          "output_type": "execute_result",
          "data": {
            "text/plain": [
              "(2075260, 9)"
            ]
          },
          "metadata": {
            "tags": []
          },
          "execution_count": 15
        }
      ]
    },
    {
      "cell_type": "code",
      "metadata": {
        "id": "dtdidIAn83ST",
        "colab_type": "code",
        "colab": {
          "base_uri": "https://localhost:8080/",
          "height": 204
        },
        "outputId": "ab632ed0-6f37-4aed-ea8a-f7122c7f8dee"
      },
      "source": [
        "data.head()"
      ],
      "execution_count": 16,
      "outputs": [
        {
          "output_type": "execute_result",
          "data": {
            "text/html": [
              "<div>\n",
              "<style scoped>\n",
              "    .dataframe tbody tr th:only-of-type {\n",
              "        vertical-align: middle;\n",
              "    }\n",
              "\n",
              "    .dataframe tbody tr th {\n",
              "        vertical-align: top;\n",
              "    }\n",
              "\n",
              "    .dataframe thead th {\n",
              "        text-align: right;\n",
              "    }\n",
              "</style>\n",
              "<table border=\"1\" class=\"dataframe\">\n",
              "  <thead>\n",
              "    <tr style=\"text-align: right;\">\n",
              "      <th></th>\n",
              "      <th>0</th>\n",
              "      <th>1</th>\n",
              "      <th>2</th>\n",
              "      <th>3</th>\n",
              "      <th>4</th>\n",
              "      <th>5</th>\n",
              "      <th>6</th>\n",
              "      <th>7</th>\n",
              "      <th>8</th>\n",
              "    </tr>\n",
              "  </thead>\n",
              "  <tbody>\n",
              "    <tr>\n",
              "      <th>0</th>\n",
              "      <td>Date</td>\n",
              "      <td>Time</td>\n",
              "      <td>Global_active_power</td>\n",
              "      <td>Global_reactive_power</td>\n",
              "      <td>Voltage</td>\n",
              "      <td>Global_intensity</td>\n",
              "      <td>Sub_metering_1</td>\n",
              "      <td>Sub_metering_2</td>\n",
              "      <td>Sub_metering_3</td>\n",
              "    </tr>\n",
              "    <tr>\n",
              "      <th>1</th>\n",
              "      <td>16/12/2006</td>\n",
              "      <td>17:24:00</td>\n",
              "      <td>4.216</td>\n",
              "      <td>0.418</td>\n",
              "      <td>234.840</td>\n",
              "      <td>18.400</td>\n",
              "      <td>0.000</td>\n",
              "      <td>1.000</td>\n",
              "      <td>17.000</td>\n",
              "    </tr>\n",
              "    <tr>\n",
              "      <th>2</th>\n",
              "      <td>16/12/2006</td>\n",
              "      <td>17:25:00</td>\n",
              "      <td>5.360</td>\n",
              "      <td>0.436</td>\n",
              "      <td>233.630</td>\n",
              "      <td>23.000</td>\n",
              "      <td>0.000</td>\n",
              "      <td>1.000</td>\n",
              "      <td>16.000</td>\n",
              "    </tr>\n",
              "    <tr>\n",
              "      <th>3</th>\n",
              "      <td>16/12/2006</td>\n",
              "      <td>17:26:00</td>\n",
              "      <td>5.374</td>\n",
              "      <td>0.498</td>\n",
              "      <td>233.290</td>\n",
              "      <td>23.000</td>\n",
              "      <td>0.000</td>\n",
              "      <td>2.000</td>\n",
              "      <td>17.000</td>\n",
              "    </tr>\n",
              "    <tr>\n",
              "      <th>4</th>\n",
              "      <td>16/12/2006</td>\n",
              "      <td>17:27:00</td>\n",
              "      <td>5.388</td>\n",
              "      <td>0.502</td>\n",
              "      <td>233.740</td>\n",
              "      <td>23.000</td>\n",
              "      <td>0.000</td>\n",
              "      <td>1.000</td>\n",
              "      <td>17.000</td>\n",
              "    </tr>\n",
              "  </tbody>\n",
              "</table>\n",
              "</div>"
            ],
            "text/plain": [
              "            0         1  ...               7               8\n",
              "0        Date      Time  ...  Sub_metering_2  Sub_metering_3\n",
              "1  16/12/2006  17:24:00  ...           1.000          17.000\n",
              "2  16/12/2006  17:25:00  ...           1.000          16.000\n",
              "3  16/12/2006  17:26:00  ...           2.000          17.000\n",
              "4  16/12/2006  17:27:00  ...           1.000          17.000\n",
              "\n",
              "[5 rows x 9 columns]"
            ]
          },
          "metadata": {
            "tags": []
          },
          "execution_count": 16
        }
      ]
    },
    {
      "cell_type": "code",
      "metadata": {
        "id": "XT09CdcX83S2",
        "colab_type": "code",
        "colab": {
          "base_uri": "https://localhost:8080/",
          "height": 173
        },
        "outputId": "e832660e-b7bf-4923-f7d0-e6bde768b426"
      },
      "source": [
        "data.describe()"
      ],
      "execution_count": 17,
      "outputs": [
        {
          "output_type": "execute_result",
          "data": {
            "text/html": [
              "<div>\n",
              "<style scoped>\n",
              "    .dataframe tbody tr th:only-of-type {\n",
              "        vertical-align: middle;\n",
              "    }\n",
              "\n",
              "    .dataframe tbody tr th {\n",
              "        vertical-align: top;\n",
              "    }\n",
              "\n",
              "    .dataframe thead th {\n",
              "        text-align: right;\n",
              "    }\n",
              "</style>\n",
              "<table border=\"1\" class=\"dataframe\">\n",
              "  <thead>\n",
              "    <tr style=\"text-align: right;\">\n",
              "      <th></th>\n",
              "      <th>0</th>\n",
              "      <th>1</th>\n",
              "      <th>2</th>\n",
              "      <th>3</th>\n",
              "      <th>4</th>\n",
              "      <th>5</th>\n",
              "      <th>6</th>\n",
              "      <th>7</th>\n",
              "      <th>8</th>\n",
              "    </tr>\n",
              "  </thead>\n",
              "  <tbody>\n",
              "    <tr>\n",
              "      <th>count</th>\n",
              "      <td>2075260</td>\n",
              "      <td>2075260</td>\n",
              "      <td>2075260</td>\n",
              "      <td>2075260</td>\n",
              "      <td>2075260</td>\n",
              "      <td>2075260</td>\n",
              "      <td>2075260</td>\n",
              "      <td>2075260</td>\n",
              "      <td>2049281.0</td>\n",
              "    </tr>\n",
              "    <tr>\n",
              "      <th>unique</th>\n",
              "      <td>1443</td>\n",
              "      <td>1441</td>\n",
              "      <td>6535</td>\n",
              "      <td>897</td>\n",
              "      <td>5169</td>\n",
              "      <td>378</td>\n",
              "      <td>154</td>\n",
              "      <td>146</td>\n",
              "      <td>54.0</td>\n",
              "    </tr>\n",
              "    <tr>\n",
              "      <th>top</th>\n",
              "      <td>8/6/2009</td>\n",
              "      <td>18:49:00</td>\n",
              "      <td>?</td>\n",
              "      <td>0.000</td>\n",
              "      <td>?</td>\n",
              "      <td>1.000</td>\n",
              "      <td>0.000</td>\n",
              "      <td>0.000</td>\n",
              "      <td>0.0</td>\n",
              "    </tr>\n",
              "    <tr>\n",
              "      <th>freq</th>\n",
              "      <td>1440</td>\n",
              "      <td>1442</td>\n",
              "      <td>25979</td>\n",
              "      <td>472785</td>\n",
              "      <td>25979</td>\n",
              "      <td>169406</td>\n",
              "      <td>1840610</td>\n",
              "      <td>1408273</td>\n",
              "      <td>813979.0</td>\n",
              "    </tr>\n",
              "  </tbody>\n",
              "</table>\n",
              "</div>"
            ],
            "text/plain": [
              "               0         1        2  ...        6        7          8\n",
              "count    2075260   2075260  2075260  ...  2075260  2075260  2049281.0\n",
              "unique      1443      1441     6535  ...      154      146       54.0\n",
              "top     8/6/2009  18:49:00        ?  ...    0.000    0.000        0.0\n",
              "freq        1440      1442    25979  ...  1840610  1408273   813979.0\n",
              "\n",
              "[4 rows x 9 columns]"
            ]
          },
          "metadata": {
            "tags": []
          },
          "execution_count": 17
        }
      ]
    },
    {
      "cell_type": "code",
      "metadata": {
        "id": "Ik8jvjD_83TY",
        "colab_type": "code",
        "colab": {
          "base_uri": "https://localhost:8080/",
          "height": 204
        },
        "outputId": "ff016f3a-95d4-49b0-d3b8-42b82a4051d5"
      },
      "source": [
        "columns=data.iloc[0,:]\n",
        "data.columns=columns\n",
        "data.drop(data.index[0],inplace=True)\n",
        "data.head()"
      ],
      "execution_count": 18,
      "outputs": [
        {
          "output_type": "execute_result",
          "data": {
            "text/html": [
              "<div>\n",
              "<style scoped>\n",
              "    .dataframe tbody tr th:only-of-type {\n",
              "        vertical-align: middle;\n",
              "    }\n",
              "\n",
              "    .dataframe tbody tr th {\n",
              "        vertical-align: top;\n",
              "    }\n",
              "\n",
              "    .dataframe thead th {\n",
              "        text-align: right;\n",
              "    }\n",
              "</style>\n",
              "<table border=\"1\" class=\"dataframe\">\n",
              "  <thead>\n",
              "    <tr style=\"text-align: right;\">\n",
              "      <th></th>\n",
              "      <th>Date</th>\n",
              "      <th>Time</th>\n",
              "      <th>Global_active_power</th>\n",
              "      <th>Global_reactive_power</th>\n",
              "      <th>Voltage</th>\n",
              "      <th>Global_intensity</th>\n",
              "      <th>Sub_metering_1</th>\n",
              "      <th>Sub_metering_2</th>\n",
              "      <th>Sub_metering_3</th>\n",
              "    </tr>\n",
              "  </thead>\n",
              "  <tbody>\n",
              "    <tr>\n",
              "      <th>1</th>\n",
              "      <td>16/12/2006</td>\n",
              "      <td>17:24:00</td>\n",
              "      <td>4.216</td>\n",
              "      <td>0.418</td>\n",
              "      <td>234.840</td>\n",
              "      <td>18.400</td>\n",
              "      <td>0.000</td>\n",
              "      <td>1.000</td>\n",
              "      <td>17.000</td>\n",
              "    </tr>\n",
              "    <tr>\n",
              "      <th>2</th>\n",
              "      <td>16/12/2006</td>\n",
              "      <td>17:25:00</td>\n",
              "      <td>5.360</td>\n",
              "      <td>0.436</td>\n",
              "      <td>233.630</td>\n",
              "      <td>23.000</td>\n",
              "      <td>0.000</td>\n",
              "      <td>1.000</td>\n",
              "      <td>16.000</td>\n",
              "    </tr>\n",
              "    <tr>\n",
              "      <th>3</th>\n",
              "      <td>16/12/2006</td>\n",
              "      <td>17:26:00</td>\n",
              "      <td>5.374</td>\n",
              "      <td>0.498</td>\n",
              "      <td>233.290</td>\n",
              "      <td>23.000</td>\n",
              "      <td>0.000</td>\n",
              "      <td>2.000</td>\n",
              "      <td>17.000</td>\n",
              "    </tr>\n",
              "    <tr>\n",
              "      <th>4</th>\n",
              "      <td>16/12/2006</td>\n",
              "      <td>17:27:00</td>\n",
              "      <td>5.388</td>\n",
              "      <td>0.502</td>\n",
              "      <td>233.740</td>\n",
              "      <td>23.000</td>\n",
              "      <td>0.000</td>\n",
              "      <td>1.000</td>\n",
              "      <td>17.000</td>\n",
              "    </tr>\n",
              "    <tr>\n",
              "      <th>5</th>\n",
              "      <td>16/12/2006</td>\n",
              "      <td>17:28:00</td>\n",
              "      <td>3.666</td>\n",
              "      <td>0.528</td>\n",
              "      <td>235.680</td>\n",
              "      <td>15.800</td>\n",
              "      <td>0.000</td>\n",
              "      <td>1.000</td>\n",
              "      <td>17.000</td>\n",
              "    </tr>\n",
              "  </tbody>\n",
              "</table>\n",
              "</div>"
            ],
            "text/plain": [
              "0        Date      Time  ... Sub_metering_2 Sub_metering_3\n",
              "1  16/12/2006  17:24:00  ...          1.000         17.000\n",
              "2  16/12/2006  17:25:00  ...          1.000         16.000\n",
              "3  16/12/2006  17:26:00  ...          2.000         17.000\n",
              "4  16/12/2006  17:27:00  ...          1.000         17.000\n",
              "5  16/12/2006  17:28:00  ...          1.000         17.000\n",
              "\n",
              "[5 rows x 9 columns]"
            ]
          },
          "metadata": {
            "tags": []
          },
          "execution_count": 18
        }
      ]
    },
    {
      "cell_type": "code",
      "metadata": {
        "id": "g9fmLaVe83T2",
        "colab_type": "code",
        "colab": {}
      },
      "source": [
        "data.replace('?',0,inplace=True)\n",
        "data[['Global_active_power','Global_reactive_power','Voltage','Global_intensity','Sub_metering_1','Sub_metering_2','Sub_metering_3']]=data[['Global_active_power','Global_reactive_power','Voltage','Global_intensity','Sub_metering_1','Sub_metering_2','Sub_metering_3']].astype(float)\n"
      ],
      "execution_count": 0,
      "outputs": []
    },
    {
      "cell_type": "code",
      "metadata": {
        "id": "JLm9mSeE83UN",
        "colab_type": "code",
        "colab": {}
      },
      "source": [
        "consumption=data['Global_active_power']*(1000/60) - data['Sub_metering_1'] - data['Sub_metering_2'] - data['Sub_metering_3']\n",
        "data['consumption']=consumption"
      ],
      "execution_count": 0,
      "outputs": []
    },
    {
      "cell_type": "code",
      "metadata": {
        "id": "_sQMtZPK83Us",
        "colab_type": "code",
        "colab": {}
      },
      "source": [
        "data.drop(columns=['Global_active_power','Global_reactive_power','Sub_metering_1','Sub_metering_2','Sub_metering_3'],inplace=True)"
      ],
      "execution_count": 0,
      "outputs": []
    },
    {
      "cell_type": "code",
      "metadata": {
        "id": "DcyQgQVJ83VC",
        "colab_type": "code",
        "colab": {
          "base_uri": "https://localhost:8080/",
          "height": 204
        },
        "outputId": "14c04648-da9c-4123-d845-f0431b9b4911"
      },
      "source": [
        "data.head()"
      ],
      "execution_count": 22,
      "outputs": [
        {
          "output_type": "execute_result",
          "data": {
            "text/html": [
              "<div>\n",
              "<style scoped>\n",
              "    .dataframe tbody tr th:only-of-type {\n",
              "        vertical-align: middle;\n",
              "    }\n",
              "\n",
              "    .dataframe tbody tr th {\n",
              "        vertical-align: top;\n",
              "    }\n",
              "\n",
              "    .dataframe thead th {\n",
              "        text-align: right;\n",
              "    }\n",
              "</style>\n",
              "<table border=\"1\" class=\"dataframe\">\n",
              "  <thead>\n",
              "    <tr style=\"text-align: right;\">\n",
              "      <th></th>\n",
              "      <th>Date</th>\n",
              "      <th>Time</th>\n",
              "      <th>Voltage</th>\n",
              "      <th>Global_intensity</th>\n",
              "      <th>consumption</th>\n",
              "    </tr>\n",
              "  </thead>\n",
              "  <tbody>\n",
              "    <tr>\n",
              "      <th>1</th>\n",
              "      <td>16/12/2006</td>\n",
              "      <td>17:24:00</td>\n",
              "      <td>234.84</td>\n",
              "      <td>18.4</td>\n",
              "      <td>52.266667</td>\n",
              "    </tr>\n",
              "    <tr>\n",
              "      <th>2</th>\n",
              "      <td>16/12/2006</td>\n",
              "      <td>17:25:00</td>\n",
              "      <td>233.63</td>\n",
              "      <td>23.0</td>\n",
              "      <td>72.333333</td>\n",
              "    </tr>\n",
              "    <tr>\n",
              "      <th>3</th>\n",
              "      <td>16/12/2006</td>\n",
              "      <td>17:26:00</td>\n",
              "      <td>233.29</td>\n",
              "      <td>23.0</td>\n",
              "      <td>70.566667</td>\n",
              "    </tr>\n",
              "    <tr>\n",
              "      <th>4</th>\n",
              "      <td>16/12/2006</td>\n",
              "      <td>17:27:00</td>\n",
              "      <td>233.74</td>\n",
              "      <td>23.0</td>\n",
              "      <td>71.800000</td>\n",
              "    </tr>\n",
              "    <tr>\n",
              "      <th>5</th>\n",
              "      <td>16/12/2006</td>\n",
              "      <td>17:28:00</td>\n",
              "      <td>235.68</td>\n",
              "      <td>15.8</td>\n",
              "      <td>43.100000</td>\n",
              "    </tr>\n",
              "  </tbody>\n",
              "</table>\n",
              "</div>"
            ],
            "text/plain": [
              "0        Date      Time  Voltage  Global_intensity  consumption\n",
              "1  16/12/2006  17:24:00   234.84              18.4    52.266667\n",
              "2  16/12/2006  17:25:00   233.63              23.0    72.333333\n",
              "3  16/12/2006  17:26:00   233.29              23.0    70.566667\n",
              "4  16/12/2006  17:27:00   233.74              23.0    71.800000\n",
              "5  16/12/2006  17:28:00   235.68              15.8    43.100000"
            ]
          },
          "metadata": {
            "tags": []
          },
          "execution_count": 22
        }
      ]
    },
    {
      "cell_type": "code",
      "metadata": {
        "id": "ODvfWKGh83Vh",
        "colab_type": "code",
        "colab": {}
      },
      "source": [
        "data['Date'] = pd.to_datetime(data['Date'])\n",
        "data['year'], data['month'] = data['Date'].dt.year, data['Date'].dt.month\n"
      ],
      "execution_count": 0,
      "outputs": []
    },
    {
      "cell_type": "code",
      "metadata": {
        "id": "fRLT9AZz83V6",
        "colab_type": "code",
        "colab": {}
      },
      "source": [
        "year=data[['year','consumption']]\n",
        "yr_sum=[]\n",
        "for yr in set(year['year']) :\n",
        "    y=[]\n",
        "    y=[yr,(year[year['year']==yr]['consumption'].sum())]\n",
        "    yr_sum.append(y)\n",
        "yr_sum=pd.DataFrame(yr_sum,columns=['year','consumption'])"
      ],
      "execution_count": 0,
      "outputs": []
    },
    {
      "cell_type": "code",
      "metadata": {
        "id": "yV0u7SA683WF",
        "colab_type": "code",
        "colab": {}
      },
      "source": [
        "import seaborn as sns\n",
        "import matplotlib.pyplot as plt"
      ],
      "execution_count": 0,
      "outputs": []
    },
    {
      "cell_type": "code",
      "metadata": {
        "id": "QEWgASD383WT",
        "colab_type": "code",
        "colab": {
          "base_uri": "https://localhost:8080/",
          "height": 295
        },
        "outputId": "c85e090e-65fb-4ac0-a288-584c46e35863"
      },
      "source": [
        "sns.barplot(x='year',y='consumption',data=yr_sum)\n",
        "plt.title('Year-Wise Electricity COnsumption')\n",
        "plt.show()"
      ],
      "execution_count": 26,
      "outputs": [
        {
          "output_type": "display_data",
          "data": {
            "image/png": "[encoded data removed]",
            "text/plain": [
              "<Figure size 432x288 with 1 Axes>"
            ]
          },
          "metadata": {
            "tags": []
          }
        }
      ]
    },
    {
      "cell_type": "code",
      "metadata": {
        "id": "37xHi_Sn83Wz",
        "colab_type": "code",
        "colab": {}
      },
      "source": [
        "month=data[['month','consumption']]\n",
        "mon_sum=[]\n",
        "for mon in set(month['month']) :\n",
        "    y=[]\n",
        "    y=[mon,(month[month['month']==mon]['consumption'].sum())]\n",
        "    mon_sum.append(y)\n",
        "mon_sum=pd.DataFrame(mon_sum,columns=['month','consumption'])"
      ],
      "execution_count": 0,
      "outputs": []
    },
    {
      "cell_type": "code",
      "metadata": {
        "id": "eXSuhcw783W-",
        "colab_type": "code",
        "colab": {
          "base_uri": "https://localhost:8080/",
          "height": 295
        },
        "outputId": "4e41dfb4-4260-4cb4-d23e-2c99fd5b0155"
      },
      "source": [
        "sns.barplot(x='month',y='consumption',data=mon_sum)\n",
        "plt.title('Month-Wise Electricity COnsumption')\n",
        "plt.show()"
      ],
      "execution_count": 28,
      "outputs": [
        {
          "output_type": "display_data",
          "data": {
            "image/png": "[encoded data removed]",
            "text/plain": [
              "<Figure size 432x288 with 1 Axes>"
            ]
          },
          "metadata": {
            "tags": []
          }
        }
      ]
    },
    {
      "cell_type": "code",
      "metadata": {
        "id": "DrCW_vrQ83Xa",
        "colab_type": "code",
        "colab": {}
      },
      "source": [
        "data['Hour']=data['Time'].str.slice(0,2)\n",
        "data['hourminute']=data['Time'].str.slice(0,2)+data['Time'].str.slice(3,5)"
      ],
      "execution_count": 0,
      "outputs": []
    },
    {
      "cell_type": "code",
      "metadata": {
        "id": "cmU-Ai4583Xo",
        "colab_type": "code",
        "colab": {}
      },
      "source": [
        "hour=data[['Hour','consumption']]\n",
        "hour_sum=[]\n",
        "for ho in set(hour['Hour']) :\n",
        "    y=[]\n",
        "    y=[ho,(hour[hour['Hour']==ho]['consumption'].sum())]\n",
        "    hour_sum.append(y)\n",
        "hour_sum=pd.DataFrame(hour_sum,columns=['Hour','consumption'])"
      ],
      "execution_count": 0,
      "outputs": []
    },
    {
      "cell_type": "code",
      "metadata": {
        "id": "zlIGcUX483X5",
        "colab_type": "code",
        "colab": {
          "base_uri": "https://localhost:8080/",
          "height": 283
        },
        "outputId": "13db2246-f5c7-4994-a900-601e395ad59b"
      },
      "source": [
        "sns.barplot(x='Hour',y='consumption',data=hour_sum)\n",
        "plt.show()"
      ],
      "execution_count": 31,
      "outputs": [
        {
          "output_type": "display_data",
          "data": {
            "image/png": "[encoded data removed]",
            "text/plain": [
              "<Figure size 432x288 with 1 Axes>"
            ]
          },
          "metadata": {
            "tags": []
          }
        }
      ]
    },
    {
      "cell_type": "code",
      "metadata": {
        "id": "bwPjvBIp83Yd",
        "colab_type": "code",
        "colab": {
          "base_uri": "https://localhost:8080/",
          "height": 34
        },
        "outputId": "07fc9bde-d83d-4043-e9ca-d7465c7e25d9"
      },
      "source": [
        "''''morning=5-11(till 11:59:59)\n",
        "afternoon=12-16(till 16:59:59)\n",
        "evening=17-20( till 20:59:59)\n",
        "night=21-4(till 4:59:59 )\n",
        "'''\n",
        "timesplit={\n",
        "'morning':['05','06','07','08','9','10','11'],\n",
        "'afternoon':['12','13','14','15','16'],\n",
        "'evening':['17','18','19','20'],\n",
        "'night':['21','22','23','00','01','02','03','04']\n",
        "}\n",
        "timesplit.keys()"
      ],
      "execution_count": 32,
      "outputs": [
        {
          "output_type": "execute_result",
          "data": {
            "text/plain": [
              "dict_keys(['morning', 'afternoon', 'evening', 'night'])"
            ]
          },
          "metadata": {
            "tags": []
          },
          "execution_count": 32
        }
      ]
    },
    {
      "cell_type": "code",
      "metadata": {
        "id": "5sO5iKat83Y5",
        "colab_type": "code",
        "colab": {}
      },
      "source": [
        "timeofday=[]\n",
        "for key in timesplit.keys():\n",
        "    tm=[]\n",
        "    tm=[key,data[data['Hour'].isin(timesplit[key])]['consumption'].sum()]\n",
        "    timeofday.append(tm)\n",
        "timeofday=pd.DataFrame(timeofday,columns=['timeofday','consumption'])"
      ],
      "execution_count": 0,
      "outputs": []
    },
    {
      "cell_type": "code",
      "metadata": {
        "id": "1m1rzqlo83ZI",
        "colab_type": "code",
        "colab": {
          "base_uri": "https://localhost:8080/",
          "height": 283
        },
        "outputId": "a12d5480-9c2e-44da-acaa-1f3d8b1ef117"
      },
      "source": [
        "sns.barplot(x='timeofday',y='consumption',data=timeofday)\n",
        "plt.show()"
      ],
      "execution_count": 34,
      "outputs": [
        {
          "output_type": "display_data",
          "data": {
            "image/png": "[encoded data removed]",
            "text/plain": [
              "<Figure size 432x288 with 1 Axes>"
            ]
          },
          "metadata": {
            "tags": []
          }
        }
      ]
    },
    {
      "cell_type": "markdown",
      "metadata": {
        "id": "s2nZDCUu83Zd",
        "colab_type": "text"
      },
      "source": [
        "# Forecasting Electrical Consumption in a Household\n",
        "I am going to train a Neural Network based on these two features i.e. time of day(hour) and month of the year.\n"
      ]
    },
    {
      "cell_type": "code",
      "metadata": {
        "id": "r_519NLlRQQT",
        "colab_type": "code",
        "colab": {
          "base_uri": "https://localhost:8080/",
          "height": 102
        },
        "outputId": "d77f7d5c-3c9e-4e70-d12d-05c0aaa275e9"
      },
      "source": [
        "def clean_dataset(df):\n",
        "    assert isinstance(df, pd.DataFrame), \"df needs to be a pd.DataFrame\"\n",
        "    df.dropna(inplace=True)\n",
        "    indices_to_keep = ~df.isin([np.nan, np.inf, -np.inf]).any(1)\n",
        "    return df[indices_to_keep].astype(np.float64)\n",
        "df=clean_dataset(data[['Hour','month','consumption']])"
      ],
      "execution_count": 94,
      "outputs": [
        {
          "output_type": "stream",
          "text": [
            "/usr/local/lib/python3.6/dist-packages/ipykernel_launcher.py:3: SettingWithCopyWarning: \n",
            "A value is trying to be set on a copy of a slice from a DataFrame\n",
            "\n",
            "See the caveats in the documentation: http://pandas.pydata.org/pandas-docs/stable/indexing.html#indexing-view-versus-copy\n",
            "  This is separate from the ipykernel package so we can avoid doing imports until\n"
          ],
          "name": "stderr"
        }
      ]
    },
    {
      "cell_type": "code",
      "metadata": {
        "id": "4eDbTVcr83Zg",
        "colab_type": "code",
        "colab": {}
      },
      "source": [
        "X=df[['Hour','month']]\n",
        "Y=df['consumption']\n",
        "Y=np.array(Y,dtype=float)\n",
        "X=np.array(X,dtype=float)\n"
      ],
      "execution_count": 0,
      "outputs": []
    },
    {
      "cell_type": "code",
      "metadata": {
        "id": "OVEGwySK83Zr",
        "colab_type": "code",
        "colab": {
          "base_uri": "https://localhost:8080/",
          "height": 34
        },
        "outputId": "4834307f-1e21-4c00-a9ad-dbf6713d8833"
      },
      "source": [
        "len(X),len(Y)"
      ],
      "execution_count": 96,
      "outputs": [
        {
          "output_type": "execute_result",
          "data": {
            "text/plain": [
              "(2049280, 2049280)"
            ]
          },
          "metadata": {
            "tags": []
          },
          "execution_count": 96
        }
      ]
    },
    {
      "cell_type": "code",
      "metadata": {
        "id": "HQWgylTy83aD",
        "colab_type": "code",
        "colab": {}
      },
      "source": [
        "from sklearn.model_selection import train_test_split\n",
        "X_train, X_test, y_train, y_test = train_test_split(X, Y, test_size=0.3)\n",
        "from keras.models import Sequential\n",
        "from keras.layers.normalization import BatchNormalization\n",
        "from keras.layers.convolutional import Conv2D\n",
        "from keras.layers.convolutional import MaxPooling2D\n",
        "from keras.layers.core import Activation\n",
        "from keras.layers.core import Dropout\n",
        "from keras.layers.core import Dense\n",
        "from keras.layers import Flatten\n",
        "from keras.layers import Input\n",
        "from keras.optimizers import Adam\n",
        "from keras.models import Model"
      ],
      "execution_count": 0,
      "outputs": []
    },
    {
      "cell_type": "code",
      "metadata": {
        "id": "tWPVSkq183aY",
        "colab_type": "code",
        "colab": {}
      },
      "source": [
        "from keras import Sequential\n",
        "from keras.layers import Dense\n",
        "def build_regressor():\n",
        "    regressor = Sequential()\n",
        "    regressor.add(Dense(units=13, input_dim=2,activation=\"relu\"))\n",
        "    regressor.add(Dense(units=8,activation=\"relu\"))\n",
        "    regressor.add(Dense(units=4,activation=\"relu\"))\n",
        "    regressor.add(Dense(units=4,activation=\"relu\"))\n",
        "    regressor.add(Dense(units=1,activation=\"linear\"))\n",
        "    opt = Adam(lr=1e-3, decay=1e-3 / 200)\n",
        "    regressor.compile(loss=\"mean_absolute_percentage_error\", optimizer=opt)\n",
        "    regressor.compile(optimizer='adam', loss='mean_squared_error',  metrics=['mae','accuracy'])\n",
        "    return regressor"
      ],
      "execution_count": 0,
      "outputs": []
    },
    {
      "cell_type": "code",
      "metadata": {
        "id": "P0YauOsm83bB",
        "colab_type": "code",
        "colab": {}
      },
      "source": [
        "from keras.wrappers.scikit_learn import KerasRegressor\n",
        "regressor = KerasRegressor(build_fn=build_regressor, batch_size=32,epochs=100)"
      ],
      "execution_count": 0,
      "outputs": []
    },
    {
      "cell_type": "code",
      "metadata": {
        "id": "Jxtn6M4b83bg",
        "colab_type": "code",
        "colab": {
          "base_uri": "https://localhost:8080/",
          "height": 1000
        },
        "outputId": "88a3a228-03fa-44d2-e32f-9fedc9a276f7"
      },
      "source": [
        "results=regressor.fit(X_train,y_train)\n",
        "y_pred= regressor.predict(X_test)\n",
        "\n"
      ],
      "execution_count": 112,
      "outputs": [
        {
          "output_type": "stream",
          "text": [
            "Epoch 1/100\n",
            "1434496/1434496 [==============================] - 47s 33us/step - loss: 80.8225 - mean_absolute_error: 5.9277 - acc: 0.0019\n",
            "Epoch 2/100\n",
            "1434496/1434496 [==============================] - 46s 32us/step - loss: 77.1586 - mean_absolute_error: 5.7247 - acc: 0.0023\n",
            "Epoch 3/100\n",
            "1434496/1434496 [==============================] - 46s 32us/step - loss: 76.3168 - mean_absolute_error: 5.6806 - acc: 0.0025\n",
            "Epoch 4/100\n",
            "1434496/1434496 [==============================] - 46s 32us/step - loss: 76.2015 - mean_absolute_error: 5.6818 - acc: 0.0024\n",
            "Epoch 5/100\n",
            "1434496/1434496 [==============================] - 45s 32us/step - loss: 76.0324 - mean_absolute_error: 5.6801 - acc: 0.0024\n",
            "Epoch 6/100\n",
            "1434496/1434496 [==============================] - 45s 32us/step - loss: 75.1438 - mean_absolute_error: 5.6369 - acc: 0.0025\n",
            "Epoch 7/100\n",
            "1434496/1434496 [==============================] - 45s 31us/step - loss: 73.8198 - mean_absolute_error: 5.5901 - acc: 0.0025\n",
            "Epoch 8/100\n",
            "1434496/1434496 [==============================] - 45s 31us/step - loss: 72.6441 - mean_absolute_error: 5.5549 - acc: 0.0025\n",
            "Epoch 9/100\n",
            "1434496/1434496 [==============================] - 46s 32us/step - loss: 72.1361 - mean_absolute_error: 5.5239 - acc: 0.0025\n",
            "Epoch 10/100\n",
            "1434496/1434496 [==============================] - 45s 31us/step - loss: 71.5568 - mean_absolute_error: 5.4758 - acc: 0.0025\n",
            "Epoch 11/100\n",
            "1434496/1434496 [==============================] - 45s 31us/step - loss: 71.2373 - mean_absolute_error: 5.4493 - acc: 0.0026\n",
            "Epoch 12/100\n",
            "1434496/1434496 [==============================] - 45s 32us/step - loss: 71.0954 - mean_absolute_error: 5.4345 - acc: 0.0026\n",
            "Epoch 13/100\n",
            "1434496/1434496 [==============================] - 46s 32us/step - loss: 70.9828 - mean_absolute_error: 5.4224 - acc: 0.0026\n",
            "Epoch 14/100\n",
            "1434496/1434496 [==============================] - 45s 32us/step - loss: 70.9145 - mean_absolute_error: 5.4110 - acc: 0.0026\n",
            "Epoch 15/100\n",
            "1434496/1434496 [==============================] - 45s 31us/step - loss: 70.8349 - mean_absolute_error: 5.4016 - acc: 0.0026\n",
            "Epoch 16/100\n",
            "1434496/1434496 [==============================] - 48s 33us/step - loss: 70.7563 - mean_absolute_error: 5.3937 - acc: 0.0026\n",
            "Epoch 17/100\n",
            "1434496/1434496 [==============================] - 48s 33us/step - loss: 70.7111 - mean_absolute_error: 5.3865 - acc: 0.0026\n",
            "Epoch 18/100\n",
            "1434496/1434496 [==============================] - 48s 33us/step - loss: 70.6565 - mean_absolute_error: 5.3803 - acc: 0.0026\n",
            "Epoch 19/100\n",
            "1434496/1434496 [==============================] - 47s 33us/step - loss: 70.6056 - mean_absolute_error: 5.3740 - acc: 0.0026\n",
            "Epoch 20/100\n",
            "1434496/1434496 [==============================] - 46s 32us/step - loss: 70.5649 - mean_absolute_error: 5.3701 - acc: 0.0026\n",
            "Epoch 21/100\n",
            "1434496/1434496 [==============================] - 46s 32us/step - loss: 70.5424 - mean_absolute_error: 5.3676 - acc: 0.0026\n",
            "Epoch 22/100\n",
            "1434496/1434496 [==============================] - 46s 32us/step - loss: 70.5137 - mean_absolute_error: 5.3640 - acc: 0.0026\n",
            "Epoch 23/100\n",
            "1434496/1434496 [==============================] - 46s 32us/step - loss: 70.4877 - mean_absolute_error: 5.3603 - acc: 0.0026\n",
            "Epoch 24/100\n",
            "1434496/1434496 [==============================] - 46s 32us/step - loss: 70.4567 - mean_absolute_error: 5.3577 - acc: 0.0025\n",
            "Epoch 25/100\n",
            "1434496/1434496 [==============================] - 46s 32us/step - loss: 70.4284 - mean_absolute_error: 5.3522 - acc: 0.0026\n",
            "Epoch 26/100\n",
            "1434496/1434496 [==============================] - 46s 32us/step - loss: 70.3918 - mean_absolute_error: 5.3474 - acc: 0.0026\n",
            "Epoch 27/100\n",
            "1434496/1434496 [==============================] - 46s 32us/step - loss: 70.3447 - mean_absolute_error: 5.3422 - acc: 0.0026\n",
            "Epoch 28/100\n",
            "1434496/1434496 [==============================] - 47s 33us/step - loss: 70.3298 - mean_absolute_error: 5.3398 - acc: 0.0026\n",
            "Epoch 29/100\n",
            "1434496/1434496 [==============================] - 47s 33us/step - loss: 70.3166 - mean_absolute_error: 5.3384 - acc: 0.0026\n",
            "Epoch 30/100\n",
            "1434496/1434496 [==============================] - 48s 34us/step - loss: 70.3037 - mean_absolute_error: 5.3372 - acc: 0.0026\n",
            "Epoch 31/100\n",
            "1434496/1434496 [==============================] - 47s 33us/step - loss: 70.2794 - mean_absolute_error: 5.3352 - acc: 0.0026\n",
            "Epoch 32/100\n",
            "1434496/1434496 [==============================] - 48s 33us/step - loss: 70.2559 - mean_absolute_error: 5.3330 - acc: 0.0026\n",
            "Epoch 33/100\n",
            "1434496/1434496 [==============================] - 48s 34us/step - loss: 70.2446 - mean_absolute_error: 5.3318 - acc: 0.0026\n",
            "Epoch 34/100\n",
            "1434496/1434496 [==============================] - 48s 34us/step - loss: 70.2213 - mean_absolute_error: 5.3291 - acc: 0.0026\n",
            "Epoch 35/100\n",
            "1434496/1434496 [==============================] - 48s 33us/step - loss: 70.2031 - mean_absolute_error: 5.3272 - acc: 0.0026\n",
            "Epoch 36/100\n",
            "1434496/1434496 [==============================] - 48s 34us/step - loss: 70.2097 - mean_absolute_error: 5.3272 - acc: 0.0026\n",
            "Epoch 37/100\n",
            "1434496/1434496 [==============================] - 47s 33us/step - loss: 70.1881 - mean_absolute_error: 5.3267 - acc: 0.0026\n",
            "Epoch 38/100\n",
            "1434496/1434496 [==============================] - 46s 32us/step - loss: 70.1871 - mean_absolute_error: 5.3255 - acc: 0.0026\n",
            "Epoch 39/100\n",
            "1434496/1434496 [==============================] - 47s 33us/step - loss: 70.1692 - mean_absolute_error: 5.3244 - acc: 0.0026\n",
            "Epoch 40/100\n",
            "1434496/1434496 [==============================] - 47s 33us/step - loss: 70.1166 - mean_absolute_error: 5.3218 - acc: 0.0025\n",
            "Epoch 41/100\n",
            "1434496/1434496 [==============================] - 46s 32us/step - loss: 70.0489 - mean_absolute_error: 5.3146 - acc: 0.0026\n",
            "Epoch 42/100\n",
            "1434496/1434496 [==============================] - 45s 32us/step - loss: 70.0044 - mean_absolute_error: 5.3124 - acc: 0.0025\n",
            "Epoch 43/100\n",
            "1434496/1434496 [==============================] - 45s 31us/step - loss: 69.9818 - mean_absolute_error: 5.3110 - acc: 0.0025\n",
            "Epoch 44/100\n",
            "1434496/1434496 [==============================] - 45s 31us/step - loss: 69.9709 - mean_absolute_error: 5.3111 - acc: 0.0025\n",
            "Epoch 45/100\n",
            "1434496/1434496 [==============================] - 45s 32us/step - loss: 69.9456 - mean_absolute_error: 5.3103 - acc: 0.0025\n",
            "Epoch 46/100\n",
            "1434496/1434496 [==============================] - 45s 31us/step - loss: 69.9410 - mean_absolute_error: 5.3092 - acc: 0.0026\n",
            "Epoch 47/100\n",
            "1434496/1434496 [==============================] - 45s 31us/step - loss: 69.9333 - mean_absolute_error: 5.3088 - acc: 0.0026\n",
            "Epoch 48/100\n",
            "1434496/1434496 [==============================] - 45s 32us/step - loss: 69.9079 - mean_absolute_error: 5.3080 - acc: 0.0025\n",
            "Epoch 49/100\n",
            "1434496/1434496 [==============================] - 46s 32us/step - loss: 69.9048 - mean_absolute_error: 5.3072 - acc: 0.0026\n",
            "Epoch 50/100\n",
            "1434496/1434496 [==============================] - 46s 32us/step - loss: 69.8720 - mean_absolute_error: 5.3056 - acc: 0.0026\n",
            "Epoch 51/100\n",
            "1434496/1434496 [==============================] - 45s 32us/step - loss: 69.8715 - mean_absolute_error: 5.3052 - acc: 0.0026\n",
            "Epoch 52/100\n",
            "1434496/1434496 [==============================] - 45s 32us/step - loss: 69.8755 - mean_absolute_error: 5.3042 - acc: 0.0026\n",
            "Epoch 53/100\n",
            "1434496/1434496 [==============================] - 45s 31us/step - loss: 69.8445 - mean_absolute_error: 5.3020 - acc: 0.0026\n",
            "Epoch 54/100\n",
            "1434496/1434496 [==============================] - 44s 31us/step - loss: 69.8084 - mean_absolute_error: 5.2995 - acc: 0.0026\n",
            "Epoch 55/100\n",
            "1434496/1434496 [==============================] - 44s 30us/step - loss: 69.7966 - mean_absolute_error: 5.2987 - acc: 0.0026\n",
            "Epoch 56/100\n",
            "1434496/1434496 [==============================] - 45s 31us/step - loss: 69.7449 - mean_absolute_error: 5.2960 - acc: 0.0026\n",
            "Epoch 57/100\n",
            "1434496/1434496 [==============================] - 45s 32us/step - loss: 69.7401 - mean_absolute_error: 5.2936 - acc: 0.0026\n",
            "Epoch 58/100\n",
            "1434496/1434496 [==============================] - 45s 31us/step - loss: 69.7470 - mean_absolute_error: 5.2943 - acc: 0.0026\n",
            "Epoch 59/100\n",
            "1434496/1434496 [==============================] - 45s 31us/step - loss: 69.7393 - mean_absolute_error: 5.2919 - acc: 0.0026\n",
            "Epoch 60/100\n",
            "1434496/1434496 [==============================] - 46s 32us/step - loss: 69.7358 - mean_absolute_error: 5.2932 - acc: 0.0026\n",
            "Epoch 61/100\n",
            "1434496/1434496 [==============================] - 45s 32us/step - loss: 69.7272 - mean_absolute_error: 5.2911 - acc: 0.0027\n",
            "Epoch 62/100\n",
            "1434496/1434496 [==============================] - 45s 32us/step - loss: 69.7225 - mean_absolute_error: 5.2911 - acc: 0.0026\n",
            "Epoch 63/100\n",
            "1434496/1434496 [==============================] - 45s 31us/step - loss: 69.7265 - mean_absolute_error: 5.2920 - acc: 0.0026\n",
            "Epoch 64/100\n",
            "1434496/1434496 [==============================] - 45s 32us/step - loss: 69.7226 - mean_absolute_error: 5.2913 - acc: 0.0026\n",
            "Epoch 65/100\n",
            "1434496/1434496 [==============================] - 45s 31us/step - loss: 69.6903 - mean_absolute_error: 5.2900 - acc: 0.0026\n",
            "Epoch 66/100\n",
            "1434496/1434496 [==============================] - 45s 31us/step - loss: 69.7098 - mean_absolute_error: 5.2900 - acc: 0.0026\n",
            "Epoch 67/100\n",
            "1434496/1434496 [==============================] - 45s 31us/step - loss: 69.7164 - mean_absolute_error: 5.2900 - acc: 0.0026\n",
            "Epoch 68/100\n",
            "1434496/1434496 [==============================] - 45s 32us/step - loss: 69.6948 - mean_absolute_error: 5.2884 - acc: 0.0026\n",
            "Epoch 69/100\n",
            "1434496/1434496 [==============================] - 46s 32us/step - loss: 69.6957 - mean_absolute_error: 5.2894 - acc: 0.0026\n",
            "Epoch 70/100\n",
            "1434496/1434496 [==============================] - 46s 32us/step - loss: 69.6947 - mean_absolute_error: 5.2884 - acc: 0.0026\n",
            "Epoch 71/100\n",
            "1434496/1434496 [==============================] - 46s 32us/step - loss: 69.6898 - mean_absolute_error: 5.2867 - acc: 0.0026\n",
            "Epoch 72/100\n",
            "1434496/1434496 [==============================] - 47s 33us/step - loss: 69.6813 - mean_absolute_error: 5.2882 - acc: 0.0026\n",
            "Epoch 73/100\n",
            "1434496/1434496 [==============================] - 46s 32us/step - loss: 69.6854 - mean_absolute_error: 5.2883 - acc: 0.0027\n",
            "Epoch 74/100\n",
            "1434496/1434496 [==============================] - 46s 32us/step - loss: 69.6876 - mean_absolute_error: 5.2876 - acc: 0.0026\n",
            "Epoch 75/100\n",
            "1434496/1434496 [==============================] - 46s 32us/step - loss: 69.6670 - mean_absolute_error: 5.2878 - acc: 0.0026\n",
            "Epoch 76/100\n",
            "1434496/1434496 [==============================] - 46s 32us/step - loss: 69.6736 - mean_absolute_error: 5.2869 - acc: 0.0026\n",
            "Epoch 77/100\n",
            "1434496/1434496 [==============================] - 46s 32us/step - loss: 69.6748 - mean_absolute_error: 5.2877 - acc: 0.0027\n",
            "Epoch 78/100\n",
            "1434496/1434496 [==============================] - 46s 32us/step - loss: 69.6776 - mean_absolute_error: 5.2877 - acc: 0.0026\n",
            "Epoch 79/100\n",
            "1434496/1434496 [==============================] - 46s 32us/step - loss: 69.6619 - mean_absolute_error: 5.2864 - acc: 0.0026\n",
            "Epoch 80/100\n",
            "1434496/1434496 [==============================] - 46s 32us/step - loss: 69.6549 - mean_absolute_error: 5.2868 - acc: 0.0026\n",
            "Epoch 81/100\n",
            "1434496/1434496 [==============================] - 45s 32us/step - loss: 69.6557 - mean_absolute_error: 5.2865 - acc: 0.0026\n",
            "Epoch 82/100\n",
            "1434496/1434496 [==============================] - 45s 32us/step - loss: 69.6598 - mean_absolute_error: 5.2868 - acc: 0.0026\n",
            "Epoch 83/100\n",
            "1434496/1434496 [==============================] - 47s 32us/step - loss: 69.6570 - mean_absolute_error: 5.2859 - acc: 0.0025\n",
            "Epoch 84/100\n",
            "1434496/1434496 [==============================] - 48s 33us/step - loss: 69.6555 - mean_absolute_error: 5.2856 - acc: 0.0026\n",
            "Epoch 85/100\n",
            "1434496/1434496 [==============================] - 48s 33us/step - loss: 69.6588 - mean_absolute_error: 5.2865 - acc: 0.0026\n",
            "Epoch 86/100\n",
            "1434496/1434496 [==============================] - 48s 33us/step - loss: 69.6404 - mean_absolute_error: 5.2851 - acc: 0.0026\n",
            "Epoch 87/100\n",
            "1434496/1434496 [==============================] - 48s 34us/step - loss: 69.6468 - mean_absolute_error: 5.2856 - acc: 0.0026\n",
            "Epoch 88/100\n",
            "1434496/1434496 [==============================] - 47s 33us/step - loss: 69.6449 - mean_absolute_error: 5.2857 - acc: 0.0026\n",
            "Epoch 89/100\n",
            "1434496/1434496 [==============================] - 46s 32us/step - loss: 69.6445 - mean_absolute_error: 5.2844 - acc: 0.0025\n",
            "Epoch 90/100\n",
            "1434496/1434496 [==============================] - 47s 33us/step - loss: 69.6385 - mean_absolute_error: 5.2838 - acc: 0.0026\n",
            "Epoch 91/100\n",
            "1434496/1434496 [==============================] - 47s 33us/step - loss: 69.6462 - mean_absolute_error: 5.2851 - acc: 0.0027\n",
            "Epoch 92/100\n",
            "1434496/1434496 [==============================] - 47s 33us/step - loss: 69.6380 - mean_absolute_error: 5.2841 - acc: 0.0026\n",
            "Epoch 93/100\n",
            "1434496/1434496 [==============================] - 47s 33us/step - loss: 69.6388 - mean_absolute_error: 5.2847 - acc: 0.0026\n",
            "Epoch 94/100\n",
            "1434496/1434496 [==============================] - 46s 32us/step - loss: 69.6230 - mean_absolute_error: 5.2836 - acc: 0.0026\n",
            "Epoch 95/100\n",
            "1434496/1434496 [==============================] - 46s 32us/step - loss: 69.6359 - mean_absolute_error: 5.2844 - acc: 0.0025\n",
            "Epoch 96/100\n",
            "1434496/1434496 [==============================] - 46s 32us/step - loss: 69.6368 - mean_absolute_error: 5.2855 - acc: 0.0026\n",
            "Epoch 97/100\n",
            "1434496/1434496 [==============================] - 46s 32us/step - loss: 69.6266 - mean_absolute_error: 5.2832 - acc: 0.0026\n",
            "Epoch 98/100\n",
            "1434496/1434496 [==============================] - 46s 32us/step - loss: 69.6289 - mean_absolute_error: 5.2853 - acc: 0.0026\n",
            "Epoch 99/100\n",
            "1434496/1434496 [==============================] - 46s 32us/step - loss: 69.6242 - mean_absolute_error: 5.2841 - acc: 0.0025\n",
            "Epoch 100/100\n",
            "1434496/1434496 [==============================] - 46s 32us/step - loss: 69.6205 - mean_absolute_error: 5.2828 - acc: 0.0026\n"
          ],
          "name": "stdout"
        }
      ]
    },
    {
      "cell_type": "code",
      "metadata": {
        "id": "u_RR3HnHIEfm",
        "colab_type": "code",
        "colab": {
          "base_uri": "https://localhost:8080/",
          "height": 283
        },
        "outputId": "0d024cf6-7111-4b9f-d800-64ce1be3a4d6"
      },
      "source": [
        "fig, ax = plt.subplots()\n",
        "ax.scatter(y_test, y_pred)\n",
        "ax.plot([y_test.min(), y_test.max()], [y_test.min(), y_test.max()], 'k--', lw=4)\n",
        "ax.set_xlabel('Measured')\n",
        "ax.set_ylabel('Predicted')\n",
        "plt.show()"
      ],
      "execution_count": 113,
      "outputs": [
        {
          "output_type": "display_data",
          "data": {
            "image/png": "[encoded data removed]",
            "text/plain": [
              "<Figure size 432x288 with 1 Axes>"
            ]
          },
          "metadata": {
            "tags": []
          }
        }
      ]
    },
    {
      "cell_type": "code",
      "metadata": {
        "id": "ATMpc_hYKL6K",
        "colab_type": "code",
        "colab": {
          "base_uri": "https://localhost:8080/",
          "height": 68
        },
        "outputId": "77e9a9fd-045f-4fe8-9a94-2286c6692be7"
      },
      "source": [
        "y_test[:5],y_pred[:5]"
      ],
      "execution_count": 114,
      "outputs": [
        {
          "output_type": "execute_result",
          "data": {
            "text/plain": [
              "(array([ 6.16666667,  8.93333333,  3.53333333, 22.63333333,  1.4       ]),\n",
              " array([ 7.460497 , 13.983513 ,  4.482464 , 13.983513 ,  3.9012299],\n",
              "       dtype=float32))"
            ]
          },
          "metadata": {
            "tags": []
          },
          "execution_count": 114
        }
      ]
    },
    {
      "cell_type": "code",
      "metadata": {
        "id": "s2RwdGcrM2eq",
        "colab_type": "code",
        "colab": {}
      },
      "source": [
        ""
      ],
      "execution_count": 0,
      "outputs": []
    }
  ]
}